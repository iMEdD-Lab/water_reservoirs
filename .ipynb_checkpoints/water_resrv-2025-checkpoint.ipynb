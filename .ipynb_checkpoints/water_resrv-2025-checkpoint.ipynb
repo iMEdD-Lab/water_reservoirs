{
 "cells": [
  {
   "cell_type": "code",
   "execution_count": null,
   "id": "5ee47139",
   "metadata": {},
   "outputs": [],
   "source": [
    "#imports\n",
    "import requests\n",
    "import json\n",
    "import time\n",
    "import pandas as pd\n",
    "import datetime\n",
    "\n",
    "#set ups\n",
    "pd.set_option('display.max_rows', None)\n",
    "pd.set_option('display.max_columns', None)"
   ]
  },
  {
   "cell_type": "code",
   "execution_count": null,
   "id": "80f1d7cc",
   "metadata": {},
   "outputs": [],
   "source": [
    "#find the different APIs\n",
    "response = requests.get('https://opendata-api-eydap.growthfund.gr/api/Savings/Day/31-12-1998') \n",
    "response"
   ]
  },
  {
   "cell_type": "code",
   "execution_count": null,
   "id": "9c2ffbb0",
   "metadata": {
    "scrolled": true
   },
   "outputs": [],
   "source": [
    "webpages = []\n",
    "\n",
    "# Create all the urls you need to collet the historic data\n",
    "for n in range(1985, 2026):\n",
    "    \n",
    "    webpage = 'https://opendata-api-eydap.growthfund.gr/api/Savings/Year/31-12-' + str(n)\n",
    "    webpages.append(webpage)\n",
    "\n",
    "webpages"
   ]
  },
  {
   "cell_type": "code",
   "execution_count": null,
   "id": "b663c4bb",
   "metadata": {
    "scrolled": true
   },
   "outputs": [],
   "source": [
    "td = datetime.datetime.strptime(\"01-07-2025\", \"%d-%m-%Y\")\n",
    "\n",
    "k = 31\n",
    "\n",
    "d = pd.date_range(td, periods=k)\n",
    "\n",
    "print(d.strftime(\"%d-%m-%Y\"))"
   ]
  },
  {
   "cell_type": "code",
   "execution_count": null,
   "id": "fe1c194e",
   "metadata": {
    "scrolled": true
   },
   "outputs": [],
   "source": [
    "# Loop through your date range and format the URLs correctly\n",
    "for date in d:\n",
    "    webpage = f\"https://opendata-api-eydap.growthfund.gr/api/Savings/Day/{date.strftime('%d-%m-%Y')}\"\n",
    "    webpages.append(webpage)\n",
    "\n",
    "webpages"
   ]
  },
  {
   "cell_type": "code",
   "execution_count": null,
   "id": "6dac4dae",
   "metadata": {
    "scrolled": true
   },
   "outputs": [],
   "source": [
    "df1 = pd.DataFrame(webpages)\n",
    "df1 = df1.rename(columns = {df1.columns[0]:'apis'})\n",
    "df1"
   ]
  },
  {
   "cell_type": "code",
   "execution_count": null,
   "id": "71019895",
   "metadata": {},
   "outputs": [],
   "source": [
    "response = requests.get(df1.apis[2])\n",
    "response"
   ]
  },
  {
   "cell_type": "code",
   "execution_count": null,
   "id": "ff9d8295",
   "metadata": {
    "scrolled": true
   },
   "outputs": [],
   "source": [
    "data_list = []\n",
    "\n",
    "for api in df1.apis:\n",
    "    #make a request and visit it\n",
    "    api_response = requests.get(api)\n",
    "#     print(api_response.status_code)\n",
    "    \n",
    "    data = api_response.text\n",
    "    parse_json = json.loads(data)\n",
    "    \n",
    "    data_list.append(parse_json)\n",
    "    time.sleep(5)\n",
    "    \n",
    "#     print(\":date\", parse_json)"
   ]
  },
  {
   "cell_type": "code",
   "execution_count": null,
   "id": "14da7698",
   "metadata": {},
   "outputs": [],
   "source": [
    "dictionaries = []\n",
    "\n",
    "# Itterate through the inner lists and collect dictionaries\n",
    "for dl in data_list:\n",
    "    dictionaries.extend(dl)\n",
    "\n",
    "# Create a DataFrame from the collected dictionaries\n",
    "df = pd.DataFrame(dictionaries)"
   ]
  },
  {
   "cell_type": "code",
   "execution_count": null,
   "id": "4a3cd0c1",
   "metadata": {},
   "outputs": [],
   "source": [
    "df.columns = df.columns.str.strip()\n",
    "df = df.applymap(lambda x: x.strip() if isinstance(x, str) else x)"
   ]
  },
  {
   "cell_type": "code",
   "execution_count": null,
   "id": "793ee5ef",
   "metadata": {
    "scrolled": false
   },
   "outputs": [],
   "source": [
    "df[df['Marathonas'].isnull() | df['Mornos'].isnull()]"
   ]
  },
  {
   "cell_type": "code",
   "execution_count": null,
   "id": "543cec82",
   "metadata": {},
   "outputs": [],
   "source": [
    "# fix the empty cells\n",
    "\n",
    "webpages_fix = ['https://opendata-api-eydap.growthfund.gr/api/Savings/Day/31-12-2011',\n",
    "                'https://opendata-api-eydap.growthfund.gr/api/Savings/Day/30-12-2013',\n",
    "                'https://opendata-api-eydap.growthfund.gr/api/Savings/Day/31-12-2013']\n",
    "\n",
    "df2 = pd.DataFrame(webpages_fix)\n",
    "df2 = df2.rename(columns = {df2.columns[0]:'apis'})\n",
    "\n",
    "data_list2 = []\n",
    "\n",
    "for api in df2.apis:\n",
    "    #make a request and visit it\n",
    "    api_response = requests.get(api)\n",
    "#     print(api_response.status_code)\n",
    "    \n",
    "    data = api_response.text\n",
    "    parse_json = json.loads(data)\n",
    "    \n",
    "    data_list2.append(parse_json)\n",
    "    time.sleep(5)\n",
    "    \n",
    "#     print(\":date\", parse_json)\n",
    "\n",
    "dictionaries = []\n",
    "\n",
    "# Itterate through the inner lists and collect dictionaries\n",
    "for dl in data_list2:\n",
    "    dictionaries.extend(dl)\n",
    "\n",
    "# Create a DataFrame from the collected dictionaries\n",
    "df2 = pd.DataFrame(dictionaries)"
   ]
  },
  {
   "cell_type": "code",
   "execution_count": null,
   "id": "1dcb3758",
   "metadata": {
    "scrolled": true
   },
   "outputs": [],
   "source": [
    "df2"
   ]
  },
  {
   "cell_type": "code",
   "execution_count": null,
   "id": "f468e764",
   "metadata": {
    "scrolled": false
   },
   "outputs": [],
   "source": [
    "#concatenate the different dataframes vertically\n",
    "df3 = pd.concat([df,df2], axis=0, ignore_index=True)\n",
    "df3 = df3.dropna()\n",
    "df3 = df3.drop_duplicates(keep='first')\n",
    "df3.tail(10)"
   ]
  },
  {
   "cell_type": "code",
   "execution_count": null,
   "id": "15db01f2",
   "metadata": {},
   "outputs": [],
   "source": [
    "df3[df3.duplicated(keep=False)]"
   ]
  },
  {
   "cell_type": "code",
   "execution_count": null,
   "id": "2bda4044",
   "metadata": {},
   "outputs": [],
   "source": [
    "# Make the dates, datetime\n",
    "df3['date'] = pd.to_datetime(df3['Date'], format='%d/%m/%Y', dayfirst=True)"
   ]
  },
  {
   "cell_type": "code",
   "execution_count": null,
   "id": "edaf25c5",
   "metadata": {},
   "outputs": [],
   "source": [
    "df3.sort_values(by='date', inplace=True)"
   ]
  },
  {
   "cell_type": "code",
   "execution_count": null,
   "id": "feabf72f",
   "metadata": {
    "scrolled": true
   },
   "outputs": [],
   "source": [
    "for col in ['Eyinos','Yliko', 'Total','Marathonas', 'Mornos']:\n",
    "    df3[col] = df3[col].str.replace('.', '', regex=False).str.strip().astype(int)"
   ]
  },
  {
   "cell_type": "code",
   "execution_count": null,
   "id": "afc8fdde",
   "metadata": {},
   "outputs": [],
   "source": [
    "df3.dtypes"
   ]
  },
  {
   "cell_type": "code",
   "execution_count": null,
   "id": "c424d267",
   "metadata": {},
   "outputs": [],
   "source": [
    "df3 = df3[['date', 'Eyinos', 'Marathonas', 'Mornos', 'Yliko', 'Total']]"
   ]
  },
  {
   "cell_type": "code",
   "execution_count": null,
   "id": "17c3337a",
   "metadata": {
    "scrolled": true
   },
   "outputs": [],
   "source": [
    "df3.tail()"
   ]
  },
  {
   "cell_type": "code",
   "execution_count": null,
   "id": "75e678c8",
   "metadata": {},
   "outputs": [],
   "source": [
    "#save your last df as a .csv file\n",
    "# df3.to_csv('apothemata_nerou.csv',index=False)"
   ]
  },
  {
   "cell_type": "code",
   "execution_count": null,
   "id": "7a0de40c",
   "metadata": {},
   "outputs": [],
   "source": []
  }
 ],
 "metadata": {
  "kernelspec": {
   "display_name": "Python 3 (ipykernel)",
   "language": "python",
   "name": "python3"
  },
  "language_info": {
   "codemirror_mode": {
    "name": "ipython",
    "version": 3
   },
   "file_extension": ".py",
   "mimetype": "text/x-python",
   "name": "python",
   "nbconvert_exporter": "python",
   "pygments_lexer": "ipython3",
   "version": "3.11.2"
  }
 },
 "nbformat": 4,
 "nbformat_minor": 5
}
